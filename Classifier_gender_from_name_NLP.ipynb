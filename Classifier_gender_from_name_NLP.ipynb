{
  "nbformat": 4,
  "nbformat_minor": 0,
  "metadata": {
    "colab": {
      "name": "Classifier gender from name - NLP.ipynb",
      "provenance": [],
      "collapsed_sections": []
    },
    "kernelspec": {
      "name": "python3",
      "display_name": "Python 3"
    },
    "accelerator": "GPU"
  },
  "cells": [
    {
      "cell_type": "code",
      "metadata": {
        "id": "RLuRL2Nw9j0o",
        "colab_type": "code",
        "colab": {
          "base_uri": "https://localhost:8080/",
          "height": 71
        },
        "outputId": "c5d34ca3-4003-4ccc-ab0f-294de3401c0e"
      },
      "source": [
        "import nltk, re, pprint\n",
        "from nltk.corpus import names\n",
        "import random\n",
        "nltk.download('names')"
      ],
      "execution_count": 7,
      "outputs": [
        {
          "output_type": "stream",
          "text": [
            "[nltk_data] Downloading package names to /root/nltk_data...\n",
            "[nltk_data]   Unzipping corpora/names.zip.\n"
          ],
          "name": "stdout"
        },
        {
          "output_type": "execute_result",
          "data": {
            "text/plain": [
              "True"
            ]
          },
          "metadata": {
            "tags": []
          },
          "execution_count": 7
        }
      ]
    },
    {
      "cell_type": "code",
      "metadata": {
        "id": "6HXwhqsB9pzN",
        "colab_type": "code",
        "colab": {}
      },
      "source": [
        "names =  ([(name, 'male') for name in names.words('male.txt')] + \n",
        "          [(name, 'female') for name in names.words('female.txt')])"
      ],
      "execution_count": 0,
      "outputs": []
    },
    {
      "cell_type": "code",
      "metadata": {
        "id": "KVTMPKkY-Fn-",
        "colab_type": "code",
        "colab": {}
      },
      "source": [
        "random.shuffle(names)"
      ],
      "execution_count": 0,
      "outputs": []
    },
    {
      "cell_type": "code",
      "metadata": {
        "id": "56wDgm7s-jLW",
        "colab_type": "code",
        "colab": {}
      },
      "source": [
        "def gender_features(word):\n",
        "    return {'last_letter': word[-1]}\n"
      ],
      "execution_count": 0,
      "outputs": []
    },
    {
      "cell_type": "code",
      "metadata": {
        "id": "Y10L5wJ7-tP4",
        "colab_type": "code",
        "colab": {}
      },
      "source": [
        "featuresets = [(gender_features(n), g) for (n,g) in names]\n",
        "train_set, test_set = featuresets[500:], featuresets[:500]\n",
        "classifier = nltk.NaiveBayesClassifier.train(train_set)"
      ],
      "execution_count": 0,
      "outputs": []
    },
    {
      "cell_type": "code",
      "metadata": {
        "id": "Wfe_7YtZ_FUK",
        "colab_type": "code",
        "colab": {
          "base_uri": "https://localhost:8080/",
          "height": 35
        },
        "outputId": "8cbf74b0-7109-4ffa-e358-b784760fdb33"
      },
      "source": [
        "classifier.classify(gender_features('Neo'))"
      ],
      "execution_count": 16,
      "outputs": [
        {
          "output_type": "execute_result",
          "data": {
            "text/plain": [
              "'male'"
            ]
          },
          "metadata": {
            "tags": []
          },
          "execution_count": 16
        }
      ]
    },
    {
      "cell_type": "code",
      "metadata": {
        "id": "UysXjLfk_NIY",
        "colab_type": "code",
        "colab": {
          "base_uri": "https://localhost:8080/",
          "height": 35
        },
        "outputId": "1caa071c-1aba-449b-dbee-6e179a3be135"
      },
      "source": [
        "classifier.classify(gender_features('Trinity'))"
      ],
      "execution_count": 20,
      "outputs": [
        {
          "output_type": "execute_result",
          "data": {
            "text/plain": [
              "'female'"
            ]
          },
          "metadata": {
            "tags": []
          },
          "execution_count": 20
        }
      ]
    },
    {
      "cell_type": "code",
      "metadata": {
        "id": "yaAnWloY_mwb",
        "colab_type": "code",
        "colab": {
          "base_uri": "https://localhost:8080/",
          "height": 35
        },
        "outputId": "75253ea0-8b5c-4293-ba07-46f7e4847de0"
      },
      "source": [
        "print(nltk.classify.accuracy(classifier, test_set))"
      ],
      "execution_count": 21,
      "outputs": [
        {
          "output_type": "stream",
          "text": [
            "0.772\n"
          ],
          "name": "stdout"
        }
      ]
    },
    {
      "cell_type": "code",
      "metadata": {
        "id": "eLdP2F1n_uGC",
        "colab_type": "code",
        "colab": {
          "base_uri": "https://localhost:8080/",
          "height": 215
        },
        "outputId": "bddc0c7c-0778-4f50-c17d-43d3547c0f4a"
      },
      "source": [
        "classifier.show_most_informative_features()"
      ],
      "execution_count": 22,
      "outputs": [
        {
          "output_type": "stream",
          "text": [
            "Most Informative Features\n",
            "             last_letter = 'a'            female : male   =     34.3 : 1.0\n",
            "             last_letter = 'k'              male : female =     33.0 : 1.0\n",
            "             last_letter = 'v'              male : female =     18.5 : 1.0\n",
            "             last_letter = 'f'              male : female =     16.5 : 1.0\n",
            "             last_letter = 'p'              male : female =     11.1 : 1.0\n",
            "             last_letter = 'm'              male : female =      9.9 : 1.0\n",
            "             last_letter = 'd'              male : female =      9.6 : 1.0\n",
            "             last_letter = 'o'              male : female =      8.0 : 1.0\n",
            "             last_letter = 'r'              male : female =      6.7 : 1.0\n",
            "             last_letter = 'w'              male : female =      5.4 : 1.0\n"
          ],
          "name": "stdout"
        }
      ]
    },
    {
      "cell_type": "code",
      "metadata": {
        "id": "XgvAdwaNAd1B",
        "colab_type": "code",
        "colab": {}
      },
      "source": [
        "from nltk.classify import apply_features\n"
      ],
      "execution_count": 0,
      "outputs": []
    },
    {
      "cell_type": "code",
      "metadata": {
        "id": "hWjl4k3nDdQB",
        "colab_type": "code",
        "colab": {}
      },
      "source": [
        "train_set = apply_features(gender_features, names[500:])\n",
        "test_set= apply_features(gender_features, names[:500])"
      ],
      "execution_count": 0,
      "outputs": []
    },
    {
      "cell_type": "code",
      "metadata": {
        "id": "mA0hGkejJvzF",
        "colab_type": "code",
        "colab": {
          "base_uri": "https://localhost:8080/",
          "height": 35
        },
        "outputId": "37afe143-5782-43d8-a9e7-c16224d30dc8"
      },
      "source": [
        "train_set[1]"
      ],
      "execution_count": 67,
      "outputs": [
        {
          "output_type": "execute_result",
          "data": {
            "text/plain": [
              "({'last_letter': 'o'}, 'male')"
            ]
          },
          "metadata": {
            "tags": []
          },
          "execution_count": 67
        }
      ]
    },
    {
      "cell_type": "code",
      "metadata": {
        "id": "l-iPEIfaFowe",
        "colab_type": "code",
        "colab": {}
      },
      "source": [
        "classifier = nltk.NaiveBayesClassifier.train(train_set)"
      ],
      "execution_count": 0,
      "outputs": []
    },
    {
      "cell_type": "code",
      "metadata": {
        "id": "Zp_ZO-5VFwhb",
        "colab_type": "code",
        "colab": {
          "base_uri": "https://localhost:8080/",
          "height": 35
        },
        "outputId": "706b6a4c-dab6-46ad-d06b-7286bfc0e80c"
      },
      "source": [
        "print(nltk.classify.accuracy(classifier, test_set))"
      ],
      "execution_count": 55,
      "outputs": [
        {
          "output_type": "stream",
          "text": [
            "0.772\n"
          ],
          "name": "stdout"
        }
      ]
    },
    {
      "cell_type": "code",
      "metadata": {
        "id": "CeDWDvfzF8Dy",
        "colab_type": "code",
        "colab": {
          "base_uri": "https://localhost:8080/",
          "height": 215
        },
        "outputId": "58f904e7-4ebf-4631-b1c9-e6a658d22c0f"
      },
      "source": [
        "classifier.show_most_informative_features()"
      ],
      "execution_count": 56,
      "outputs": [
        {
          "output_type": "stream",
          "text": [
            "Most Informative Features\n",
            "             last_letter = 'a'            female : male   =     34.3 : 1.0\n",
            "             last_letter = 'k'              male : female =     33.0 : 1.0\n",
            "             last_letter = 'v'              male : female =     18.5 : 1.0\n",
            "             last_letter = 'f'              male : female =     16.5 : 1.0\n",
            "             last_letter = 'p'              male : female =     11.1 : 1.0\n",
            "             last_letter = 'm'              male : female =      9.9 : 1.0\n",
            "             last_letter = 'd'              male : female =      9.6 : 1.0\n",
            "             last_letter = 'o'              male : female =      8.0 : 1.0\n",
            "             last_letter = 'r'              male : female =      6.7 : 1.0\n",
            "             last_letter = 'w'              male : female =      5.4 : 1.0\n"
          ],
          "name": "stdout"
        }
      ]
    },
    {
      "cell_type": "code",
      "metadata": {
        "id": "gE7Oq9frGCEw",
        "colab_type": "code",
        "colab": {}
      },
      "source": [
        "def gender_features2(name):\n",
        "    features = {}\n",
        "    features[\"firstletter\"] = name[0].lower()\n",
        "    features[\"secondlastletter\"] = name[-2:].lower()\n",
        "    features[\"lastletter\"] = name[-1].lower()\n",
        "    for letter in \"abcdefghijklmnopqrstuvwxyz\":\n",
        "        features['count(%s)' % letter] = name.lower().count(letter)\n",
        "        features['has(%s)' % letter] = (letter in name.lower())\n",
        "    return features"
      ],
      "execution_count": 0,
      "outputs": []
    },
    {
      "cell_type": "code",
      "metadata": {
        "id": "mKUSBPggHrLJ",
        "colab_type": "code",
        "colab": {
          "base_uri": "https://localhost:8080/",
          "height": 251
        },
        "outputId": "8ed6587a-90e8-481e-a0d4-15efaa0c51cf"
      },
      "source": [
        "train_names = names[1500:]\n",
        "valid_names = names[500:1500]\n",
        "test_names = names[:500]\n",
        "\n",
        "train_set2 = apply_features(gender_features2, train_names)\n",
        "valid_set2 = apply_features(gender_features2, valid_names)\n",
        "test_set2 = apply_features(gender_features2, test_names)\n",
        "\n",
        "classifier2 = nltk.NaiveBayesClassifier.train(train_set2)\n",
        "\n",
        "print(nltk.classify.accuracy(classifier2, valid_set2))\n",
        "print(nltk.classify.accuracy(classifier2, test_set2))\n",
        "classifier2.show_most_informative_features()"
      ],
      "execution_count": 76,
      "outputs": [
        {
          "output_type": "stream",
          "text": [
            "0.799\n",
            "0.794\n",
            "Most Informative Features\n",
            "        secondlastletter = 'na'           female : male   =     84.6 : 1.0\n",
            "        secondlastletter = 'la'           female : male   =     68.4 : 1.0\n",
            "        secondlastletter = 'ia'           female : male   =     34.8 : 1.0\n",
            "              lastletter = 'a'            female : male   =     30.5 : 1.0\n",
            "        secondlastletter = 'sa'           female : male   =     30.1 : 1.0\n",
            "              lastletter = 'k'              male : female =     28.0 : 1.0\n",
            "        secondlastletter = 'rd'             male : female =     27.5 : 1.0\n",
            "        secondlastletter = 'do'             male : female =     24.0 : 1.0\n",
            "        secondlastletter = 'us'             male : female =     23.2 : 1.0\n",
            "        secondlastletter = 'io'             male : female =     22.8 : 1.0\n"
          ],
          "name": "stdout"
        }
      ]
    },
    {
      "cell_type": "code",
      "metadata": {
        "id": "YgYr1BFdJK6e",
        "colab_type": "code",
        "colab": {}
      },
      "source": [
        "errors = []\n",
        "for (name, tag) in valid_names:\n",
        "    guess = classifier2.classify(gender_features2(name))\n",
        "    if guess!= tag:\n",
        "        errors.append((tag, guess, name))"
      ],
      "execution_count": 0,
      "outputs": []
    },
    {
      "cell_type": "code",
      "metadata": {
        "id": "AfGiSpmGOmsA",
        "colab_type": "code",
        "colab": {
          "base_uri": "https://localhost:8080/",
          "height": 1000
        },
        "outputId": "a6208665-56f8-47e1-c0a7-4b0a9bae503c"
      },
      "source": [
        "for (tag, guess, name) in sorted(errors):\n",
        "    print('correct=%-8s guess=%-8s name=%-30s' %\n",
        "                (tag, guess, name))"
      ],
      "execution_count": 73,
      "outputs": [
        {
          "output_type": "stream",
          "text": [
            "correct=female   guess=male     name=Addis                         \n",
            "correct=female   guess=male     name=Amber                         \n",
            "correct=female   guess=male     name=Aubry                         \n",
            "correct=female   guess=male     name=Berthe                        \n",
            "correct=female   guess=male     name=Berty                         \n",
            "correct=female   guess=male     name=Bethany                       \n",
            "correct=female   guess=male     name=Biddy                         \n",
            "correct=female   guess=male     name=Bo                            \n",
            "correct=female   guess=male     name=Brandy                        \n",
            "correct=female   guess=male     name=Bren                          \n",
            "correct=female   guess=male     name=Buffy                         \n",
            "correct=female   guess=male     name=Calypso                       \n",
            "correct=female   guess=male     name=Carrol                        \n",
            "correct=female   guess=male     name=Cher                          \n",
            "correct=female   guess=male     name=Cherry                        \n",
            "correct=female   guess=male     name=Clem                          \n",
            "correct=female   guess=male     name=Consuelo                      \n",
            "correct=female   guess=male     name=Courtenay                     \n",
            "correct=female   guess=male     name=Courtney                      \n",
            "correct=female   guess=male     name=Daffy                         \n",
            "correct=female   guess=male     name=Dionis                        \n",
            "correct=female   guess=male     name=Dodie                         \n",
            "correct=female   guess=male     name=Doe                           \n",
            "correct=female   guess=male     name=Dolores                       \n",
            "correct=female   guess=male     name=Dorthy                        \n",
            "correct=female   guess=male     name=Dory                          \n",
            "correct=female   guess=male     name=Dotty                         \n",
            "correct=female   guess=male     name=Elinor                        \n",
            "correct=female   guess=male     name=Fanchon                       \n",
            "correct=female   guess=male     name=Farrah                        \n",
            "correct=female   guess=male     name=Farrand                       \n",
            "correct=female   guess=male     name=Fiorenze                      \n",
            "correct=female   guess=male     name=Flower                        \n",
            "correct=female   guess=male     name=Gerry                         \n",
            "correct=female   guess=male     name=Gerty                         \n",
            "correct=female   guess=male     name=Glynnis                       \n",
            "correct=female   guess=male     name=Grier                         \n",
            "correct=female   guess=male     name=Guendolen                     \n",
            "correct=female   guess=male     name=Gussy                         \n",
            "correct=female   guess=male     name=Gwen                          \n",
            "correct=female   guess=male     name=Gwendolen                     \n",
            "correct=female   guess=male     name=Gwenore                       \n",
            "correct=female   guess=male     name=Gwyn                          \n",
            "correct=female   guess=male     name=Hannis                        \n",
            "correct=female   guess=male     name=Harmony                       \n",
            "correct=female   guess=male     name=Helen                         \n",
            "correct=female   guess=male     name=Hortense                      \n",
            "correct=female   guess=male     name=Inger                         \n",
            "correct=female   guess=male     name=Isador                        \n",
            "correct=female   guess=male     name=Jewell                        \n",
            "correct=female   guess=male     name=Joly                          \n",
            "correct=female   guess=male     name=Joslyn                        \n",
            "correct=female   guess=male     name=Kim                           \n",
            "correct=female   guess=male     name=Marj                          \n",
            "correct=female   guess=male     name=Marybeth                      \n",
            "correct=female   guess=male     name=Maryrose                      \n",
            "correct=female   guess=male     name=Marys                         \n",
            "correct=female   guess=male     name=Mavis                         \n",
            "correct=female   guess=male     name=Meggy                         \n",
            "correct=female   guess=male     name=Modesty                       \n",
            "correct=female   guess=male     name=Myriam                        \n",
            "correct=female   guess=male     name=Nariko                        \n",
            "correct=female   guess=male     name=Norry                         \n",
            "correct=female   guess=male     name=Olly                          \n",
            "correct=female   guess=male     name=Opal                          \n",
            "correct=female   guess=male     name=Orly                          \n",
            "correct=female   guess=male     name=Pat                           \n",
            "correct=female   guess=male     name=Pegeen                        \n",
            "correct=female   guess=male     name=Pen                           \n",
            "correct=female   guess=male     name=Raquel                        \n",
            "correct=female   guess=male     name=Revkah                        \n",
            "correct=female   guess=male     name=Rivy                          \n",
            "correct=female   guess=male     name=Roch                          \n",
            "correct=female   guess=male     name=Rochell                       \n",
            "correct=female   guess=male     name=Rodi                          \n",
            "correct=female   guess=male     name=Romy                          \n",
            "correct=female   guess=male     name=Rosario                       \n",
            "correct=female   guess=male     name=Roshelle                      \n",
            "correct=female   guess=male     name=Roxie                         \n",
            "correct=female   guess=male     name=Roxy                          \n",
            "correct=female   guess=male     name=Ruby                          \n",
            "correct=female   guess=male     name=Sharon                        \n",
            "correct=female   guess=male     name=Shelagh                       \n",
            "correct=female   guess=male     name=Sherye                        \n",
            "correct=female   guess=male     name=Sidoney                       \n",
            "correct=female   guess=male     name=Siouxie                       \n",
            "correct=female   guess=male     name=Stephie                       \n",
            "correct=female   guess=male     name=Stoddard                      \n",
            "correct=female   guess=male     name=Sukey                         \n",
            "correct=female   guess=male     name=Susan                         \n",
            "correct=female   guess=male     name=Susy                          \n",
            "correct=female   guess=male     name=Taryn                         \n",
            "correct=female   guess=male     name=Tatum                         \n",
            "correct=female   guess=male     name=Ted                           \n",
            "correct=female   guess=male     name=Teryl                         \n",
            "correct=female   guess=male     name=Tiffy                         \n",
            "correct=female   guess=male     name=Torrie                        \n",
            "correct=female   guess=male     name=Ulrike                        \n",
            "correct=female   guess=male     name=Umeko                         \n",
            "correct=female   guess=male     name=Wenona                        \n",
            "correct=female   guess=male     name=Wini                          \n",
            "correct=female   guess=male     name=Wren                          \n",
            "correct=female   guess=male     name=Yoko                          \n",
            "correct=male     guess=female   name=Abbey                         \n",
            "correct=male     guess=female   name=Abbie                         \n",
            "correct=male     guess=female   name=Abdel                         \n",
            "correct=male     guess=female   name=Aldis                         \n",
            "correct=male     guess=female   name=Alexis                        \n",
            "correct=male     guess=female   name=Alfie                         \n",
            "correct=male     guess=female   name=Alister                       \n",
            "correct=male     guess=female   name=Allie                         \n",
            "correct=male     guess=female   name=Andre                         \n",
            "correct=male     guess=female   name=Antony                        \n",
            "correct=male     guess=female   name=Ari                           \n",
            "correct=male     guess=female   name=Arie                          \n",
            "correct=male     guess=female   name=Aube                          \n",
            "correct=male     guess=female   name=Averil                        \n",
            "correct=male     guess=female   name=Basil                         \n",
            "correct=male     guess=female   name=Berkie                        \n",
            "correct=male     guess=female   name=Berkley                       \n",
            "correct=male     guess=female   name=Bertie                        \n",
            "correct=male     guess=female   name=Blaine                        \n",
            "correct=male     guess=female   name=Blayne                        \n",
            "correct=male     guess=female   name=Bubba                         \n",
            "correct=male     guess=female   name=Cal                           \n",
            "correct=male     guess=female   name=Caleb                         \n",
            "correct=male     guess=female   name=Cecil                         \n",
            "correct=male     guess=female   name=Chanderjit                    \n",
            "correct=male     guess=female   name=Chase                         \n",
            "correct=male     guess=female   name=Chrissy                       \n",
            "correct=male     guess=female   name=Clarance                      \n",
            "correct=male     guess=female   name=Cleveland                     \n",
            "correct=male     guess=female   name=Cy                            \n",
            "correct=male     guess=female   name=Cyril                         \n",
            "correct=male     guess=female   name=Cyrille                       \n",
            "correct=male     guess=female   name=Danie                         \n",
            "correct=male     guess=female   name=Darian                        \n",
            "correct=male     guess=female   name=Darryl                        \n",
            "correct=male     guess=female   name=Davidde                       \n",
            "correct=male     guess=female   name=Dickie                        \n",
            "correct=male     guess=female   name=Dillon                        \n",
            "correct=male     guess=female   name=Doyle                         \n",
            "correct=male     guess=female   name=Eben                          \n",
            "correct=male     guess=female   name=Eddie                         \n",
            "correct=male     guess=female   name=Emanuel                       \n",
            "correct=male     guess=female   name=Emile                         \n",
            "correct=male     guess=female   name=Enrique                       \n",
            "correct=male     guess=female   name=Ethan                         \n",
            "correct=male     guess=female   name=Etienne                       \n",
            "correct=male     guess=female   name=Freeman                       \n",
            "correct=male     guess=female   name=Gian                          \n",
            "correct=male     guess=female   name=Gil                           \n",
            "correct=male     guess=female   name=Graehme                       \n",
            "correct=male     guess=female   name=Granville                     \n",
            "correct=male     guess=female   name=Hadrian                       \n",
            "correct=male     guess=female   name=Hailey                        \n",
            "correct=male     guess=female   name=Hamlin                        \n",
            "correct=male     guess=female   name=Hassan                        \n",
            "correct=male     guess=female   name=Ian                           \n",
            "correct=male     guess=female   name=Ignace                        \n",
            "correct=male     guess=female   name=Jae                           \n",
            "correct=male     guess=female   name=Jeffie                        \n",
            "correct=male     guess=female   name=Jeremias                      \n",
            "correct=male     guess=female   name=Jonathan                      \n",
            "correct=male     guess=female   name=Kalil                         \n",
            "correct=male     guess=female   name=Kenneth                       \n",
            "correct=male     guess=female   name=Kevin                         \n",
            "correct=male     guess=female   name=Kimball                       \n",
            "correct=male     guess=female   name=Kin                           \n",
            "correct=male     guess=female   name=Laurance                      \n",
            "correct=male     guess=female   name=Lauren                        \n",
            "correct=male     guess=female   name=Layton                        \n",
            "correct=male     guess=female   name=Lazar                         \n",
            "correct=male     guess=female   name=Lemuel                        \n",
            "correct=male     guess=female   name=Lorne                         \n",
            "correct=male     guess=female   name=Louie                         \n",
            "correct=male     guess=female   name=Luce                          \n",
            "correct=male     guess=female   name=Lucian                        \n",
            "correct=male     guess=female   name=Luke                          \n",
            "correct=male     guess=female   name=Lyn                           \n",
            "correct=male     guess=female   name=Marcel                        \n",
            "correct=male     guess=female   name=Matty                         \n",
            "correct=male     guess=female   name=Maximilian                    \n",
            "correct=male     guess=female   name=Melvin                        \n",
            "correct=male     guess=female   name=Merlin                        \n",
            "correct=male     guess=female   name=Merrel                        \n",
            "correct=male     guess=female   name=Michel                        \n",
            "correct=male     guess=female   name=Mikey                         \n",
            "correct=male     guess=female   name=Neil                          \n",
            "correct=male     guess=female   name=Niels                         \n",
            "correct=male     guess=female   name=Nikolai                       \n",
            "correct=male     guess=female   name=Niles                         \n",
            "correct=male     guess=female   name=Parsifal                      \n",
            "correct=male     guess=female   name=Pennie                        \n",
            "correct=male     guess=female   name=Prince                        \n",
            "correct=male     guess=female   name=Quinlan                       \n",
            "correct=male     guess=female   name=Raphael                       \n",
            "correct=male     guess=female   name=Ray                           \n",
            "correct=male     guess=female   name=Rickey                        \n",
            "correct=male     guess=female   name=Ricky                         \n",
            "correct=male     guess=female   name=Sal                           \n",
            "correct=male     guess=female   name=Salman                        \n",
            "correct=male     guess=female   name=Sammie                        \n",
            "correct=male     guess=female   name=Samuele                       \n",
            "correct=male     guess=female   name=See                           \n",
            "correct=male     guess=female   name=Sidney                        \n",
            "correct=male     guess=female   name=Sinclare                      \n",
            "correct=male     guess=female   name=Stanleigh                     \n",
            "correct=male     guess=female   name=Stanly                        \n",
            "correct=male     guess=female   name=Tabby                         \n",
            "correct=male     guess=female   name=Tann                          \n",
            "correct=male     guess=female   name=Tarrant                       \n",
            "correct=male     guess=female   name=Thayne                        \n",
            "correct=male     guess=female   name=Trace                         \n",
            "correct=male     guess=female   name=Uli                           \n",
            "correct=male     guess=female   name=Vaclav                        \n",
            "correct=male     guess=female   name=Vail                          \n",
            "correct=male     guess=female   name=Vassily                       \n",
            "correct=male     guess=female   name=Verney                        \n",
            "correct=male     guess=female   name=Yancy                         \n",
            "correct=male     guess=female   name=Zacharie                      \n",
            "correct=male     guess=female   name=Zalman                        \n",
            "correct=male     guess=female   name=Zeke                          \n"
          ],
          "name": "stdout"
        }
      ]
    },
    {
      "cell_type": "code",
      "metadata": {
        "id": "HJjakeAXOvra",
        "colab_type": "code",
        "colab": {}
      },
      "source": [
        ""
      ],
      "execution_count": 0,
      "outputs": []
    }
  ]
}